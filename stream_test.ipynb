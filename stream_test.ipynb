{
 "cells": [
  {
   "attachments": {},
   "cell_type": "markdown",
   "metadata": {},
   "source": [
    "# Test ChatCompletion Streaming"
   ]
  },
  {
   "cell_type": "code",
   "execution_count": 2,
   "metadata": {},
   "outputs": [],
   "source": [
    "import openai\n",
    "import os\n",
    "\n",
    "from dotenv import load_dotenv, find_dotenv\n",
    "_ = load_dotenv(find_dotenv()) # read local .env file\n",
    "\n",
    "openai.api_key  = os.getenv('OPENAI_API_KEY')"
   ]
  },
  {
   "cell_type": "code",
   "execution_count": 19,
   "metadata": {},
   "outputs": [],
   "source": [
    "def is_end_of_sentence(chunk):\n",
    "    \"\"\"Returns True if the content ends with a period, exclamation point, question mark, or newline\"\"\"\n",
    "    word = chunk['choices'][0]['delta'].get('content', None)\n",
    "\n",
    "    if word and (word.endswith('.') or word.endswith('!') or word.endswith('?') or word.endswith('\\n')):\n",
    "        return True\n",
    "    else:\n",
    "        return False\n",
    "\n",
    "\n",
    "def is_end_of_stream(chunk):\n",
    "    \"\"\"Returns True if stream response is complete\"\"\"\n",
    "    if chunk['choices'][0]['finish_reason']:\n",
    "        return True\n",
    "    return False\n",
    "\n",
    "\n",
    "def append_word(chunk, words):\n",
    "    \"\"\"Appends a word to the list of words if it exists in the chunk\"\"\"\n",
    "    word = chunk['choices'][0]['delta'].get('content', None)\n",
    "    if word:\n",
    "        words.append(word)"
   ]
  },
  {
   "cell_type": "code",
   "execution_count": null,
   "metadata": {},
   "outputs": [
    {
     "name": "stdout",
     "output_type": "stream",
     "text": [
      "The Avengers go back in time to collect shiny rocks and fight a purple raisin.\n",
      " Iron Man dies, but at least he got a cool funeral.\n",
      " Captain America gets old and passes on his shield to Falcon, leaving us all wondering if he ever returned the Soul Stone.\n",
      "\n"
     ]
    }
   ],
   "source": [
    "# Example of an OpenAI ChatCompletion request with stream=True\n",
    "# https://platform.openai.com/docs/guides/chat\n",
    "\n",
    "# a ChatCompletion request\n",
    "response = openai.ChatCompletion.create(\n",
    "    model='gpt-3.5-turbo',\n",
    "    messages=[\n",
    "        {'role': 'user', 'content': 'Give me a funny summary of Avengers Endgame in 3 sentences or less.'},\n",
    "    ],\n",
    "    temperature=0,\n",
    "    stream=True  # we set stream=True\n",
    ")\n",
    "\n",
    "words_in_sentence = []\n",
    "for chunk in response:\n",
    "    append_word(chunk, words_in_sentence)\n",
    "\n",
    "    if is_end_of_stream(chunk) or is_end_of_sentence(chunk):\n",
    "        print(''.join(words_in_sentence))\n",
    "        words_in_sentence = []\n"
   ]
  }
 ],
 "metadata": {
  "kernelspec": {
   "display_name": "ai",
   "language": "python",
   "name": "python3"
  },
  "language_info": {
   "codemirror_mode": {
    "name": "ipython",
    "version": 3
   },
   "file_extension": ".py",
   "mimetype": "text/x-python",
   "name": "python",
   "nbconvert_exporter": "python",
   "pygments_lexer": "ipython3",
   "version": "3.10.6"
  },
  "orig_nbformat": 4
 },
 "nbformat": 4,
 "nbformat_minor": 2
}
