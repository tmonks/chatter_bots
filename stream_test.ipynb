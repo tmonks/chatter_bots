{
 "cells": [
  {
   "attachments": {},
   "cell_type": "markdown",
   "metadata": {},
   "source": [
    "# Test ChatCompletion Streaming"
   ]
  },
  {
   "cell_type": "code",
   "execution_count": 2,
   "metadata": {},
   "outputs": [],
   "source": [
    "import openai\n",
    "import os\n",
    "\n",
    "from dotenv import load_dotenv, find_dotenv\n",
    "_ = load_dotenv(find_dotenv()) # read local .env file\n",
    "\n",
    "openai.api_key  = os.getenv('OPENAI_API_KEY')"
   ]
  },
  {
   "cell_type": "code",
   "execution_count": 15,
   "metadata": {},
   "outputs": [
    {
     "name": "stdout",
     "output_type": "stream",
     "text": [
      "The Avengers go back in time to collect shiny rocks and fight a purple raisin.\n",
      " Iron Man dies, but at least he got a cool funeral.\n",
      " Captain America gets old and passes on his shield to Falcon, leaving us all wondering if he ever returned the Soul Stone.\n",
      "\n"
     ]
    }
   ],
   "source": [
    "# Example of an OpenAI ChatCompletion request with stream=True\n",
    "# https://platform.openai.com/docs/guides/chat\n",
    "\n",
    "# a ChatCompletion request\n",
    "response = openai.ChatCompletion.create(\n",
    "    model='gpt-3.5-turbo',\n",
    "    messages=[\n",
    "        {'role': 'user', 'content': 'Give me a funny summary of Avengers Endgame in 3 sentences or less.'},\n",
    "    ],\n",
    "    temperature=0,\n",
    "    stream=True  # this time, we set stream=True\n",
    ")\n",
    "\n",
    "def is_end_of_sentence(word):\n",
    "    # if word ends with a period, exclamation point, or question mark return True\n",
    "    if not word:\n",
    "        return False\n",
    "    elif word.endswith('.') or word.endswith('!') or word.endswith('?') or word.endswith('\\n'):\n",
    "        return True\n",
    "    else:\n",
    "        return False\n",
    "\n",
    "def is_end_of_stream(chunk):\n",
    "    \"\"\"Returns True if stream response is complete\"\"\"\n",
    "    if chunk['choices'][0]['finish_reason']:\n",
    "        return True\n",
    "    return False\n",
    "\n",
    "words_in_sentence = []\n",
    "for chunk in response:\n",
    "    # TODO: make is_end_of_sentence take a chunk instead of a word\n",
    "    # set content to empty string if delta doesn't have a 'content' key\n",
    "    content = chunk['choices'][0]['delta'].get('content', None) \n",
    "\n",
    "    if content:\n",
    "        words_in_sentence.append(content)\n",
    "        # if token ends in a newline, print the chunk and reset it\n",
    "    if is_end_of_stream(chunk) or is_end_of_sentence(content):\n",
    "        print(''.join(words_in_sentence))\n",
    "        words_in_sentence = []\n"
   ]
  },
  {
   "cell_type": "code",
   "execution_count": null,
   "metadata": {},
   "outputs": [],
   "source": []
  },
  {
   "cell_type": "code",
   "execution_count": 7,
   "metadata": {},
   "outputs": [
    {
     "data": {
      "text/plain": [
       "['The',\n",
       " ' Avengers',\n",
       " ' go',\n",
       " ' back',\n",
       " ' in',\n",
       " ' time',\n",
       " ' to',\n",
       " ' collect',\n",
       " ' shiny',\n",
       " ' rocks',\n",
       " ' and',\n",
       " ' undo',\n",
       " ' the',\n",
       " ' snap',\n",
       " '.',\n",
       " ' Than',\n",
       " 'os',\n",
       " ' gets',\n",
       " ' his',\n",
       " ' head',\n",
       " ' chopped',\n",
       " ' off',\n",
       " ' and',\n",
       " ' Hulk',\n",
       " ' becomes',\n",
       " ' a',\n",
       " ' sensitive',\n",
       " ' giant',\n",
       " '.']"
      ]
     },
     "execution_count": 7,
     "metadata": {},
     "output_type": "execute_result"
    }
   ],
   "source": [
    "chunk"
   ]
  }
 ],
 "metadata": {
  "kernelspec": {
   "display_name": "ai",
   "language": "python",
   "name": "python3"
  },
  "language_info": {
   "codemirror_mode": {
    "name": "ipython",
    "version": 3
   },
   "file_extension": ".py",
   "mimetype": "text/x-python",
   "name": "python",
   "nbconvert_exporter": "python",
   "pygments_lexer": "ipython3",
   "version": "3.10.6"
  },
  "orig_nbformat": 4
 },
 "nbformat": 4,
 "nbformat_minor": 2
}
